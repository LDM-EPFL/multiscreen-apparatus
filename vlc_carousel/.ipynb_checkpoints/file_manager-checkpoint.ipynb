{
 "cells": [
  {
   "cell_type": "code",
   "execution_count": 76,
   "metadata": {},
   "outputs": [],
   "source": [
    "import os\n",
    "import shutil\n",
    "import random\n",
    "from tqdm import tqdm\n",
    "from glob import glob\n",
    "import subprocess"
   ]
  },
  {
   "cell_type": "code",
   "execution_count": 77,
   "metadata": {},
   "outputs": [
    {
     "data": {
      "text/plain": [
       "['192.168.200.110']"
      ]
     },
     "execution_count": 77,
     "metadata": {},
     "output_type": "execute_result"
    }
   ],
   "source": [
    "# define the ip\n",
    "ips = []\n",
    "pre = '192.168.200'\n",
    "client_start  = 0\n",
    "client_finish = 6\n",
    "for i in range(client_start,client_finish):\n",
    "    ips.append(f'{pre}.{str(100+i+1)}')\n",
    "ips"
   ]
  },
  {
   "cell_type": "code",
   "execution_count": 78,
   "metadata": {},
   "outputs": [
    {
     "name": "stdout",
     "output_type": "stream",
     "text": [
      "['slides\\\\ProjectName']\n"
     ]
    }
   ],
   "source": [
    "slides = sorted(glob(os.path.normpath('./slides/*')))\n",
    "print(slides)"
   ]
  },
  {
   "cell_type": "code",
   "execution_count": 79,
   "metadata": {},
   "outputs": [
    {
     "name": "stderr",
     "output_type": "stream",
     "text": [
      "100%|████████████████████████████████████████████████████████████████████| 1/1 [00:00<00:00,  1.23it/s]\n"
     ]
    }
   ],
   "source": [
    "# cleaning up folder\n",
    "for ip in tqdm(ips):\n",
    "    try:\n",
    "        os.system(f\"ssh pi@{ip} rm LDM/*\")\n",
    "    except:\n",
    "        print(f'error in {ip}')"
   ]
  },
  {
   "cell_type": "code",
   "execution_count": 80,
   "metadata": {},
   "outputs": [
    {
     "name": "stderr",
     "output_type": "stream",
     "text": [
      "100%|███████████████████████████████████████████████████████████████████| 1/1 [00:00<00:00, 248.43it/s]\n"
     ]
    }
   ],
   "source": [
    "# copy files\n",
    "source = os.path.join(os.getcwd(), os.path.normpath(f'./slides/*'))\n",
    "\n",
    "for ip in tqdm(ips):\n",
    "    # if ip == '192.168.0.206':\n",
    "    if True:\n",
    "        try:\n",
    "            # os.system(f'scp \"{source}\" pi@{ip}:LDM/slides')\n",
    "            process = subprocess.Popen(['scp', '-r', f'{source}', f'pi@{ip}:LDM'], shell=False)\n",
    "        except:\n",
    "            print(f'error in {ip}')"
   ]
  },
  {
   "cell_type": "code",
   "execution_count": 11,
   "metadata": {},
   "outputs": [
    {
     "name": "stdout",
     "output_type": "stream",
     "text": [
      "True\n"
     ]
    }
   ],
   "source": [
    "# remove single folder\n",
    "foldername = 'ProjectName'\n",
    "source = os.path.join(os.getcwd(), os.path.normpath(f'./slides/{foldername}'))\n",
    "print(os.path.isdir(source))"
   ]
  },
  {
   "cell_type": "code",
   "execution_count": 12,
   "metadata": {},
   "outputs": [
    {
     "name": "stderr",
     "output_type": "stream",
     "text": [
      "100%|████████████████████████████████████████████████████████████████████████████████████| 1/1 [00:00<00:00,  2.13it/s]\n"
     ]
    }
   ],
   "source": [
    "for ip in tqdm(ips):\n",
    "    try:\n",
    "        os.system(f\"ssh pi@{ip} rm -r LDM/{foldername}\")\n",
    "    except:\n",
    "        print(f'error in {ip}')"
   ]
  },
  {
   "cell_type": "code",
   "execution_count": 13,
   "metadata": {},
   "outputs": [
    {
     "name": "stderr",
     "output_type": "stream",
     "text": [
      "1it [00:00, 250.06it/s]"
     ]
    },
    {
     "name": "stdout",
     "output_type": "stream",
     "text": [
      "False\n"
     ]
    },
    {
     "name": "stderr",
     "output_type": "stream",
     "text": [
      "\n"
     ]
    }
   ],
   "source": [
    "# upload single folder\n",
    "\n",
    "filename = 'ProjectName'\n",
    "source = os.path.join(os.getcwd(), os.path.normpath(f'./slides/{filename}'))\n",
    "print(os.path.isdir(source))\n",
    "\n",
    "for ip_num, ip in tqdm(enumerate(ips)):\n",
    "    # if ip == '192.168.0.206':\n",
    "    if True:\n",
    "        try:\n",
    "            # os.system(f'scp \"{source}\" pi@{ip}:LDM/slides')\n",
    "            process = subprocess.Popen(['scp', '-r', f'{source}', f'pi@{ip}:LDM'], shell=False)\n",
    "        except:\n",
    "            print(f'error in {ip}')\n"
   ]
  },
  {
   "cell_type": "code",
   "execution_count": 81,
   "metadata": {},
   "outputs": [
    {
     "name": "stderr",
     "output_type": "stream",
     "text": [
      "100%|████████████████████████████████████████████████████████████████████| 1/1 [00:01<00:00,  1.21s/it]\n"
     ]
    }
   ],
   "source": [
    "# reboot\n",
    "for ip in tqdm(ips):\n",
    "    try:\n",
    "        os.system(f\"ssh pi@{ip} sudo reboot\")\n",
    "    except:\n",
    "        print(f'error in {ip}')"
   ]
  },
  {
   "cell_type": "code",
   "execution_count": 53,
   "metadata": {},
   "outputs": [
    {
     "data": {
      "text/plain": [
       "-1"
      ]
     },
     "execution_count": 53,
     "metadata": {},
     "output_type": "execute_result"
    }
   ],
   "source": [
    "ip = 101\n",
    "os.system(f\"ssh pi@192.168.200.{ip} sudo reboot\")"
   ]
  },
  {
   "cell_type": "code",
   "execution_count": 71,
   "metadata": {},
   "outputs": [
    {
     "name": "stderr",
     "output_type": "stream",
     "text": [
      "100%|████████████████████████████████████████████████████████████████████| 1/1 [00:00<00:00,  1.40it/s]\n"
     ]
    }
   ],
   "source": [
    "# shutdown\n",
    "for ip in tqdm(ips):\n",
    "    try:\n",
    "        os.system(f\"ssh pi@{ip} sudo shutdown now\")\n",
    "    except:\n",
    "        print(f'error in {ip}')"
   ]
  },
  {
   "cell_type": "code",
   "execution_count": null,
   "metadata": {},
   "outputs": [],
   "source": []
  }
 ],
 "metadata": {
  "kernelspec": {
   "display_name": "Python 3",
   "language": "python",
   "name": "python3"
  },
  "language_info": {
   "codemirror_mode": {
    "name": "ipython",
    "version": 3
   },
   "file_extension": ".py",
   "mimetype": "text/x-python",
   "name": "python",
   "nbconvert_exporter": "python",
   "pygments_lexer": "ipython3",
   "version": "3.6.12"
  }
 },
 "nbformat": 4,
 "nbformat_minor": 4
}
