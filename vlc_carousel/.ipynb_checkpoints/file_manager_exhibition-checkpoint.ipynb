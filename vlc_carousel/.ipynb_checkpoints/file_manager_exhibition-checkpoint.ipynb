{
 "cells": [
  {
   "cell_type": "code",
   "execution_count": 1,
   "metadata": {},
   "outputs": [],
   "source": [
    "import os\n",
    "import shutil\n",
    "import random\n",
    "from tqdm import tqdm\n",
    "from glob import glob\n",
    "import subprocess"
   ]
  },
  {
   "cell_type": "code",
   "execution_count": 3,
   "metadata": {},
   "outputs": [
    {
     "data": {
      "text/plain": [
       "['192.168.200.101',\n",
       " '192.168.200.102',\n",
       " '192.168.200.103',\n",
       " '192.168.200.104',\n",
       " '192.168.200.105',\n",
       " '192.168.200.106',\n",
       " '192.168.200.107',\n",
       " '192.168.200.108',\n",
       " '192.168.200.109',\n",
       " '192.168.200.110',\n",
       " '192.168.200.111',\n",
       " '192.168.200.112',\n",
       " '192.168.200.113',\n",
       " '192.168.200.114']"
      ]
     },
     "execution_count": 3,
     "metadata": {},
     "output_type": "execute_result"
    }
   ],
   "source": [
    "# define the ip\n",
    "ips = []\n",
    "pre = '192.168.200'\n",
    "client_start  = 0\n",
    "client_finish = 14\n",
    "for i in range(client_start,client_finish):\n",
    "    ips.append(f'{pre}.{str(100+i+1)}')\n",
    "ips"
   ]
  },
  {
   "cell_type": "code",
   "execution_count": 4,
   "metadata": {},
   "outputs": [
    {
     "name": "stdout",
     "output_type": "stream",
     "text": [
      "0 : Project01_ALEX_VIRGINIE\n",
      "1 : Project02_ALEX_AUGUSTE\n",
      "2 : Project03_CHLOE_SUZANA\n",
      "3 : Project04_LUCILE_LEA\n",
      "4 : Project05_ILAYDA_ECENAZ\n",
      "5 : Project06_BEAUD_BOPESO\n",
      "6 : Project07_BLAGICA_RAHAF\n",
      "7 : Project08_NATHAN_FREDERIK\n",
      "8 : Project09_MIKAEL_LORENZO\n",
      "9 : Project10_SAMUEL_SIBYLLE\n",
      "10 : Project11_BRYAN_FLAVIO\n",
      "11 : Project12_DIMITRI_MAXIME\n",
      "12 : Project13_ANNA_ISABELLE\n",
      "13 : Project14_AMELIE_LAURA\n"
     ]
    }
   ],
   "source": [
    "slides = sorted(glob(os.path.normpath('./slides/*')))\n",
    "for i, slide in enumerate(slides):\n",
    "    name = os.path.split(slide)[-1]\n",
    "    print(f'{i} : {name}')"
   ]
  },
  {
   "cell_type": "code",
   "execution_count": 6,
   "metadata": {},
   "outputs": [
    {
     "name": "stderr",
     "output_type": "stream",
     "text": [
      "100%|██████████████████████████████████████████████████████████████████████████████████| 14/14 [00:07<00:00,  1.94it/s]\n"
     ]
    }
   ],
   "source": [
    "# cleaning up folder\n",
    "for ip in tqdm(ips):\n",
    "    try:\n",
    "        os.system(f\"ssh pi@{ip} rm -r LDM/*\")\n",
    "    except:\n",
    "        print(f'error in {ip}')"
   ]
  },
  {
   "cell_type": "code",
   "execution_count": 11,
   "metadata": {},
   "outputs": [
    {
     "data": {
      "text/plain": [
       "'D:\\\\vlc_carousel\\\\slides\\\\*'"
      ]
     },
     "execution_count": 11,
     "metadata": {},
     "output_type": "execute_result"
    }
   ],
   "source": [
    "source = os.path.join(os.getcwd(), os.path.normpath(f'./slides/*'))\n",
    "source"
   ]
  },
  {
   "cell_type": "code",
   "execution_count": 13,
   "metadata": {},
   "outputs": [],
   "source": [
    "# copy files\n",
    "for slide, ip in zip(slides, ips):\n",
    "    source = os.path.join(os.getcwd(), slide)\n",
    "    process = subprocess.Popen(['scp', '-r', f'{source}', f'pi@{ip}:LDM'], shell=False)"
   ]
  },
  {
   "cell_type": "code",
   "execution_count": 14,
   "metadata": {},
   "outputs": [
    {
     "ename": "SyntaxError",
     "evalue": "invalid syntax (<ipython-input-14-7686881cf5b6>, line 4)",
     "output_type": "error",
     "traceback": [
      "\u001b[1;36m  File \u001b[1;32m\"<ipython-input-14-7686881cf5b6>\"\u001b[1;36m, line \u001b[1;32m4\u001b[0m\n\u001b[1;33m    scp get_ip.py pi@192.168.200.101:GANGBUK\u001b[0m\n\u001b[1;37m             ^\u001b[0m\n\u001b[1;31mSyntaxError\u001b[0m\u001b[1;31m:\u001b[0m invalid syntax\n"
     ]
    }
   ],
   "source": [
    "# copy script\n",
    "for ip in tqdm(ips):\n",
    "    try:\n",
    "        os.system(f\"scp GANGBUK\\\\get_ip.py pi@{ip}:GANGBUKt\")\n",
    "    except:\n",
    "        print(f'error in {ip}')"
   ]
  },
  {
   "cell_type": "code",
   "execution_count": 47,
   "metadata": {},
   "outputs": [
    {
     "name": "stderr",
     "output_type": "stream",
     "text": [
      "100%|██████████████████████████████████████████████████████████████████| 12/12 [00:09<00:00,  1.30it/s]\n"
     ]
    }
   ],
   "source": [
    "# reboot\n",
    "for ip in tqdm(ips):\n",
    "    try:\n",
    "        os.system(f\"ssh pi@{ip} sudo reboot\")\n",
    "    except:\n",
    "        print(f'error in {ip}')"
   ]
  },
  {
   "cell_type": "code",
   "execution_count": null,
   "metadata": {},
   "outputs": [],
   "source": [
    "# shutdown\n",
    "for ip in tqdm(ips):\n",
    "    try:\n",
    "        os.system(f\"ssh pi@{ip} sudo shutdown now\")\n",
    "    except:\n",
    "        print(f'error in {ip}')"
   ]
  },
  {
   "cell_type": "code",
   "execution_count": null,
   "metadata": {},
   "outputs": [],
   "source": []
  }
 ],
 "metadata": {
  "kernelspec": {
   "display_name": "Python 3",
   "language": "python",
   "name": "python3"
  },
  "language_info": {
   "codemirror_mode": {
    "name": "ipython",
    "version": 3
   },
   "file_extension": ".py",
   "mimetype": "text/x-python",
   "name": "python",
   "nbconvert_exporter": "python",
   "pygments_lexer": "ipython3",
   "version": "3.6.12"
  }
 },
 "nbformat": 4,
 "nbformat_minor": 4
}
