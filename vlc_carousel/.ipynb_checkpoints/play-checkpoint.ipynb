{
 "cells": [
  {
   "cell_type": "code",
   "execution_count": 85,
   "metadata": {},
   "outputs": [],
   "source": [
    "import os\n",
    "import shutil\n",
    "import random\n",
    "from tqdm import tqdm\n",
    "from glob import glob\n",
    "import subprocess"
   ]
  },
  {
   "cell_type": "code",
   "execution_count": 86,
   "metadata": {},
   "outputs": [
    {
     "data": {
      "text/plain": [
       "['192.168.200.108']"
      ]
     },
     "execution_count": 86,
     "metadata": {},
     "output_type": "execute_result"
    }
   ],
   "source": [
    "# define the ip\n",
    "ips = []\n",
    "pre = '192.168.200'\n",
    "client_start  = 8\n",
    "client_finish = 9\n",
    "for i in range(client_start,client_finish):\n",
    "    ips.append(f'{pre}.{str(100+i+1)}')\n",
    "ips"
   ]
  },
  {
   "cell_type": "code",
   "execution_count": 87,
   "metadata": {},
   "outputs": [
    {
     "name": "stdout",
     "output_type": "stream",
     "text": [
      "0 : ProjectName\n"
     ]
    }
   ],
   "source": [
    "slides = sorted(glob(os.path.normpath('./slides/*')))\n",
    "for i, slide in enumerate(slides):\n",
    "    name = os.path.split(slide)[-1]\n",
    "    print(f'{i} : {name}')"
   ]
  },
  {
   "cell_type": "code",
   "execution_count": 88,
   "metadata": {},
   "outputs": [
    {
     "name": "stderr",
     "output_type": "stream",
     "text": [
      "1it [00:00, 250.09it/s]"
     ]
    },
    {
     "name": "stdout",
     "output_type": "stream",
     "text": [
      "ProjectName\n"
     ]
    },
    {
     "name": "stderr",
     "output_type": "stream",
     "text": [
      "\n"
     ]
    }
   ],
   "source": [
    "# execute play_folder.py\n",
    "foldeindex = 0\n",
    "folder_name = f'{os.path.split(slides[0])[-1]}'\n",
    "print(folder_name)\n",
    "for i, ip in tqdm(enumerate(ips)):\n",
    "    try:\n",
    "        subprocess.Popen(f'ssh pi@{ip} python3 GANGBUK/play_folder.py LDM/{folder_name} --start {i+1}'.split(), shell=False)\n",
    "    except:\n",
    "        print(f'error in {ip}')"
   ]
  },
  {
   "cell_type": "code",
   "execution_count": 89,
   "metadata": {},
   "outputs": [
    {
     "name": "stderr",
     "output_type": "stream",
     "text": [
      "1it [00:00, 199.88it/s]"
     ]
    },
    {
     "name": "stdout",
     "output_type": "stream",
     "text": [
      "ProjectName\n"
     ]
    },
    {
     "name": "stderr",
     "output_type": "stream",
     "text": [
      "\n"
     ]
    }
   ],
   "source": [
    "# execute exhibition script\n",
    "foldeindex = 0\n",
    "folder_name = f'{os.path.split(slides[0])[-1]}'\n",
    "print(folder_name)\n",
    "for i, ip in tqdm(enumerate(ips)):\n",
    "    try:\n",
    "        subprocess.Popen(f'ssh pi@{ip} python3 GANGBUK/play_exhibition.py LDM/{folder_name}'.split(), shell=False)\n",
    "    except:\n",
    "        print(f'error in {ip}')"
   ]
  },
  {
   "cell_type": "code",
   "execution_count": null,
   "metadata": {},
   "outputs": [],
   "source": []
  }
 ],
 "metadata": {
  "kernelspec": {
   "display_name": "Python 3",
   "language": "python",
   "name": "python3"
  },
  "language_info": {
   "codemirror_mode": {
    "name": "ipython",
    "version": 3
   },
   "file_extension": ".py",
   "mimetype": "text/x-python",
   "name": "python",
   "nbconvert_exporter": "python",
   "pygments_lexer": "ipython3",
   "version": "3.6.12"
  }
 },
 "nbformat": 4,
 "nbformat_minor": 4
}
