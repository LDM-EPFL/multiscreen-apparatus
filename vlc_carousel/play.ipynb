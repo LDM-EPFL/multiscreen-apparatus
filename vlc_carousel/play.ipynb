{
 "cells": [
  {
   "cell_type": "code",
   "execution_count": 43,
   "metadata": {},
   "outputs": [],
   "source": [
    "import os\n",
    "import shutil\n",
    "import random\n",
    "from tqdm import tqdm\n",
    "from glob import glob\n",
    "import subprocess"
   ]
  },
  {
   "cell_type": "code",
   "execution_count": 44,
   "metadata": {},
   "outputs": [
    {
     "data": {
      "text/plain": [
       "['192.168.200.101',\n",
       " '192.168.200.102',\n",
       " '192.168.200.103',\n",
       " '192.168.200.104',\n",
       " '192.168.200.105',\n",
       " '192.168.200.106',\n",
       " '192.168.200.107',\n",
       " '192.168.200.108',\n",
       " '192.168.200.109',\n",
       " '192.168.200.110',\n",
       " '192.168.200.111',\n",
       " '192.168.200.112']"
      ]
     },
     "execution_count": 44,
     "metadata": {},
     "output_type": "execute_result"
    }
   ],
   "source": [
    "# define the ip\n",
    "ips = []\n",
    "pre = '192.168.200'\n",
    "client_start  = 0\n",
    "client_finish = 12\n",
    "for i in range(client_start,client_finish):\n",
    "    ips.append(f'{pre}.{str(100+i+1)}')\n",
    "ips"
   ]
  },
  {
   "cell_type": "code",
   "execution_count": 45,
   "metadata": {},
   "outputs": [
    {
     "name": "stdout",
     "output_type": "stream",
     "text": [
      "0 : Project01_ALEX_VIRGINIE\n",
      "1 : Project02_ALEX_AUGUSTE\n",
      "2 : Project03_CHLOE_SUZANA\n",
      "3 : Project04_LUCILE_LEA\n",
      "4 : Project05_ILAYDA_ECENAZ\n",
      "5 : Project06_BEAUD_BOPESO\n",
      "6 : Project07_BLAGICA_RAHAF\n",
      "7 : Project08_NATHAN_FREDERIK\n",
      "8 : Project09_MIKAEL_LORENZO\n",
      "9 : Project10_SAMUEL_SIBYLLE\n",
      "10 : Project11_BRYAN_FLAVIO\n",
      "11 : Project12_DIMITRI_MAXIME\n",
      "12 : Project13_ANNA_ISABELLE\n",
      "13 : Project14_AMELIE_LAURA\n"
     ]
    }
   ],
   "source": [
    "slides = sorted(glob(os.path.normpath('./slides/*')))\n",
    "for i, slide in enumerate(slides):\n",
    "    name = os.path.split(slide)[-1]\n",
    "    print(f'{i} : {name}')"
   ]
  },
  {
   "cell_type": "code",
   "execution_count": 59,
   "metadata": {},
   "outputs": [
    {
     "name": "stderr",
     "output_type": "stream",
     "text": [
      "12it [00:00, 214.34it/s]"
     ]
    },
    {
     "name": "stdout",
     "output_type": "stream",
     "text": [
      "Project14_AMELIE_LAURA\n"
     ]
    },
    {
     "name": "stderr",
     "output_type": "stream",
     "text": [
      "\n"
     ]
    }
   ],
   "source": [
    "# execute play_folder.py\n",
    "foldeindex = 13\n",
    "\n",
    "folder_name = f'{os.path.split(slides[foldeindex])[-1]}'\n",
    "print(folder_name)\n",
    "for i, ip in tqdm(enumerate(ips)):\n",
    "    try:\n",
    "        subprocess.Popen(f'ssh pi@{ip} python3 GANGBUK/play_folder.py LDM/{folder_name} --start {i+1}'.split(), shell=False)\n",
    "    except:\n",
    "        print(f'error in {ip}')"
   ]
  },
  {
   "cell_type": "code",
   "execution_count": 105,
   "metadata": {},
   "outputs": [
    {
     "name": "stderr",
     "output_type": "stream",
     "text": [
      "1it [00:00, 142.77it/s]"
     ]
    },
    {
     "name": "stdout",
     "output_type": "stream",
     "text": [
      "ProjectName\n"
     ]
    },
    {
     "name": "stderr",
     "output_type": "stream",
     "text": [
      "\n"
     ]
    }
   ],
   "source": [
    "# execute exhibition script\n",
    "foldeindex = 0\n",
    "folder_name = f'{os.path.split(slides[0])[-1]}'\n",
    "print(folder_name)\n",
    "for i, ip in tqdm(enumerate(ips)):\n",
    "    try:\n",
    "        subprocess.Popen(f'ssh pi@{ip} python3 GANGBUK/play_exhibition.py LDM/{folder_name}'.split(), shell=False)\n",
    "    except:\n",
    "        print(f'error in {ip}')"
   ]
  },
  {
   "cell_type": "code",
   "execution_count": null,
   "metadata": {},
   "outputs": [],
   "source": []
  }
 ],
 "metadata": {
  "kernelspec": {
   "display_name": "Python 3",
   "language": "python",
   "name": "python3"
  },
  "language_info": {
   "codemirror_mode": {
    "name": "ipython",
    "version": 3
   },
   "file_extension": ".py",
   "mimetype": "text/x-python",
   "name": "python",
   "nbconvert_exporter": "python",
   "pygments_lexer": "ipython3",
   "version": "3.6.12"
  }
 },
 "nbformat": 4,
 "nbformat_minor": 4
}
