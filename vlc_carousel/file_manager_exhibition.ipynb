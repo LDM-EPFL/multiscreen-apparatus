{
 "cells": [
  {
   "cell_type": "code",
   "execution_count": 48,
   "metadata": {},
   "outputs": [],
   "source": [
    "import os\n",
    "import shutil\n",
    "import random\n",
    "from tqdm import tqdm\n",
    "from glob import glob\n",
    "import subprocess\n",
    "import collections"
   ]
  },
  {
   "cell_type": "code",
   "execution_count": 49,
   "metadata": {},
   "outputs": [
    {
     "data": {
      "text/plain": [
       "['192.168.200.101',\n",
       " '192.168.200.102',\n",
       " '192.168.200.103',\n",
       " '192.168.200.104',\n",
       " '192.168.200.105',\n",
       " '192.168.200.106',\n",
       " '192.168.200.107',\n",
       " '192.168.200.108',\n",
       " '192.168.200.109',\n",
       " '192.168.200.110',\n",
       " '192.168.200.111',\n",
       " '192.168.200.112',\n",
       " '192.168.200.113',\n",
       " '192.168.200.114']"
      ]
     },
     "execution_count": 49,
     "metadata": {},
     "output_type": "execute_result"
    }
   ],
   "source": [
    "# define the ip\n",
    "ips = []\n",
    "pre = '192.168.200'\n",
    "client_start  = 0\n",
    "client_finish = 14\n",
    "for i in range(client_start,client_finish):\n",
    "    ips.append(f'{pre}.{str(100+i+1)}')\n",
    "ips"
   ]
  },
  {
   "cell_type": "code",
   "execution_count": 50,
   "metadata": {},
   "outputs": [
    {
     "name": "stdout",
     "output_type": "stream",
     "text": [
      "0 : Project01_ALEX_VIRGINIE\n",
      "1 : Project02_ALEX_AUGUSTE\n",
      "2 : Project03_CHLOE_SUZANA\n",
      "3 : Project04_LUCILE_LEA\n",
      "4 : Project05_ILAYDA_ECENAZ\n",
      "5 : Project06_BEAUD_BOPESO\n",
      "6 : Project07_BLAGICA_RAHAF\n",
      "7 : Project08_NATHAN_FREDERIK\n",
      "8 : Project09_MIKAEL_LORENZO\n",
      "9 : Project10_SAMUEL_SIBYLLE\n",
      "10 : Project11_BRYAN_FLAVIO\n",
      "11 : Project12_DIMITRI_MAXIME\n",
      "12 : Project13_ANNA_ISABELLE\n",
      "13 : Project14_AMELIE_LAURA\n"
     ]
    }
   ],
   "source": [
    "slides = sorted(glob(os.path.normpath('./slides/*')))\n",
    "for i, slide in enumerate(slides):\n",
    "    name = os.path.split(slide)[-1]\n",
    "    print(f'{i} : {name}')"
   ]
  },
  {
   "cell_type": "code",
   "execution_count": 51,
   "metadata": {},
   "outputs": [
    {
     "name": "stderr",
     "output_type": "stream",
     "text": [
      "100%|██████████████████████████████████████████████████████████████████| 14/14 [00:08<00:00,  1.61it/s]\n"
     ]
    }
   ],
   "source": [
    "# cleaning up folder\n",
    "for ip in tqdm(ips):\n",
    "    try:\n",
    "        os.system(f\"ssh pi@{ip} rm -r LDM/*\")\n",
    "    except:\n",
    "        print(f'error in {ip}')"
   ]
  },
  {
   "cell_type": "code",
   "execution_count": 52,
   "metadata": {},
   "outputs": [
    {
     "data": {
      "text/plain": [
       "'D:\\\\vlc_carousel\\\\slides\\\\*'"
      ]
     },
     "execution_count": 52,
     "metadata": {},
     "output_type": "execute_result"
    }
   ],
   "source": [
    "source = os.path.join(os.getcwd(), os.path.normpath(f'./slides/*'))\n",
    "source"
   ]
  },
  {
   "cell_type": "code",
   "execution_count": 53,
   "metadata": {},
   "outputs": [
    {
     "data": {
      "text/plain": [
       "['slides\\\\Project08_NATHAN_FREDERIK',\n",
       " 'slides\\\\Project09_MIKAEL_LORENZO',\n",
       " 'slides\\\\Project10_SAMUEL_SIBYLLE',\n",
       " 'slides\\\\Project11_BRYAN_FLAVIO',\n",
       " 'slides\\\\Project12_DIMITRI_MAXIME',\n",
       " 'slides\\\\Project13_ANNA_ISABELLE',\n",
       " 'slides\\\\Project14_AMELIE_LAURA',\n",
       " 'slides\\\\Project01_ALEX_VIRGINIE',\n",
       " 'slides\\\\Project02_ALEX_AUGUSTE',\n",
       " 'slides\\\\Project03_CHLOE_SUZANA',\n",
       " 'slides\\\\Project04_LUCILE_LEA',\n",
       " 'slides\\\\Project05_ILAYDA_ECENAZ',\n",
       " 'slides\\\\Project06_BEAUD_BOPESO',\n",
       " 'slides\\\\Project07_BLAGICA_RAHAF']"
      ]
     },
     "execution_count": 53,
     "metadata": {},
     "output_type": "execute_result"
    }
   ],
   "source": [
    "slides = collections.deque(slides)\n",
    "slides.rotate(7)\n",
    "slides = list(slides)\n",
    "slides"
   ]
  },
  {
   "cell_type": "code",
   "execution_count": 54,
   "metadata": {},
   "outputs": [
    {
     "name": "stdout",
     "output_type": "stream",
     "text": [
      "slides\\Project08_NATHAN_FREDERIK\n",
      "slides\\Project09_MIKAEL_LORENZO\n",
      "slides\\Project10_SAMUEL_SIBYLLE\n",
      "slides\\Project11_BRYAN_FLAVIO\n",
      "slides\\Project12_DIMITRI_MAXIME\n",
      "slides\\Project13_ANNA_ISABELLE\n",
      "slides\\Project14_AMELIE_LAURA\n",
      "slides\\Project01_ALEX_VIRGINIE\n",
      "slides\\Project02_ALEX_AUGUSTE\n",
      "slides\\Project03_CHLOE_SUZANA\n",
      "slides\\Project04_LUCILE_LEA\n",
      "slides\\Project05_ILAYDA_ECENAZ\n",
      "slides\\Project06_BEAUD_BOPESO\n",
      "slides\\Project07_BLAGICA_RAHAF\n"
     ]
    }
   ],
   "source": [
    "# copy files\n",
    "i = 0\n",
    "for slide, ip in zip(slides, ips):\n",
    "    if True:\n",
    "        print(slide)\n",
    "        source = os.path.join(os.getcwd(), slide)\n",
    "        process = subprocess.Popen(['scp', '-r', f'{source}', f'pi@{ip}:LDM'], shell=False)\n",
    "    i+=1"
   ]
  },
  {
   "cell_type": "code",
   "execution_count": 56,
   "metadata": {},
   "outputs": [
    {
     "name": "stderr",
     "output_type": "stream",
     "text": [
      "100%|██████████████████████████████████████████████████████████████████| 14/14 [00:09<00:00,  1.52it/s]\n"
     ]
    }
   ],
   "source": [
    "# copy script\n",
    "for ip in tqdm(ips):\n",
    "    try:\n",
    "        os.system(f\"scp GANGBUK\\\\get_ip.py pi@{ip}:GANGBUK\")\n",
    "    except:\n",
    "        print(f'error in {ip}')"
   ]
  },
  {
   "cell_type": "code",
   "execution_count": 57,
   "metadata": {},
   "outputs": [
    {
     "name": "stderr",
     "output_type": "stream",
     "text": [
      "100%|██████████████████████████████████████████████████████████████████| 14/14 [00:09<00:00,  1.54it/s]\n"
     ]
    }
   ],
   "source": [
    "# reboot\n",
    "for ip in tqdm(ips):\n",
    "    try:\n",
    "        os.system(f\"ssh pi@{ip} sudo reboot\")\n",
    "    except:\n",
    "        print(f'error in {ip}')"
   ]
  },
  {
   "cell_type": "code",
   "execution_count": null,
   "metadata": {},
   "outputs": [],
   "source": [
    "# shutdown\n",
    "for ip in tqdm(ips):\n",
    "    try:\n",
    "        os.system(f\"ssh pi@{ip} sudo shutdown now\")\n",
    "    except:\n",
    "        print(f'error in {ip}')"
   ]
  },
  {
   "cell_type": "code",
   "execution_count": null,
   "metadata": {},
   "outputs": [],
   "source": []
  }
 ],
 "metadata": {
  "kernelspec": {
   "display_name": "Python 3",
   "language": "python",
   "name": "python3"
  },
  "language_info": {
   "codemirror_mode": {
    "name": "ipython",
    "version": 3
   },
   "file_extension": ".py",
   "mimetype": "text/x-python",
   "name": "python",
   "nbconvert_exporter": "python",
   "pygments_lexer": "ipython3",
   "version": "3.6.12"
  }
 },
 "nbformat": 4,
 "nbformat_minor": 4
}
