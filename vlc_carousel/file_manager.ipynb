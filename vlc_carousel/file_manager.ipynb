{
 "cells": [
  {
   "cell_type": "code",
   "execution_count": 40,
   "metadata": {},
   "outputs": [],
   "source": [
    "import os\n",
    "import shutil\n",
    "import random\n",
    "from tqdm import tqdm\n",
    "from glob import glob\n",
    "import subprocess"
   ]
  },
  {
   "cell_type": "code",
   "execution_count": 41,
   "metadata": {},
   "outputs": [
    {
     "data": {
      "text/plain": [
       "['192.168.200.101',\n",
       " '192.168.200.102',\n",
       " '192.168.200.103',\n",
       " '192.168.200.104',\n",
       " '192.168.200.105',\n",
       " '192.168.200.106',\n",
       " '192.168.200.107',\n",
       " '192.168.200.108',\n",
       " '192.168.200.109',\n",
       " '192.168.200.110',\n",
       " '192.168.200.111',\n",
       " '192.168.200.112']"
      ]
     },
     "execution_count": 41,
     "metadata": {},
     "output_type": "execute_result"
    }
   ],
   "source": [
    "# define the ip\n",
    "ips = []\n",
    "pre = '192.168.200'\n",
    "client_start  = 0\n",
    "client_finish = 12\n",
    "for i in range(client_start,client_finish):\n",
    "    ips.append(f'{pre}.{str(100+i+1)}')\n",
    "ips"
   ]
  },
  {
   "cell_type": "code",
   "execution_count": 42,
   "metadata": {},
   "outputs": [
    {
     "name": "stdout",
     "output_type": "stream",
     "text": [
      "0 : Project01_ALEX_VIRGINIE\n",
      "1 : Project02_ALEX_AUGUSTE\n",
      "2 : Project03_CHLOE_SUZANA\n",
      "3 : Project04_LUCILE_LEA\n",
      "4 : Project05_ILAYDA_ECENAZ\n",
      "5 : Project06_BEAUD_BOPESO\n",
      "6 : Project07_BLAGICA_RAHAF\n",
      "7 : Project08_NATHAN_FREDERIK\n",
      "8 : Project09_MIKAEL_LORENZO\n",
      "9 : Project10_SAMUEL_SIBYLLE\n",
      "10 : Project11_BRYAN_FLAVIO\n",
      "11 : Project12_DIMITRI_MAXIME\n",
      "12 : Project13_ANNA_ISABELLE\n",
      "13 : Project14_AMELIE_LAURA\n"
     ]
    }
   ],
   "source": [
    "slides = sorted(glob(os.path.normpath('./slides/*')))\n",
    "for i, slide in enumerate(slides):\n",
    "    name = os.path.split(slide)[-1]\n",
    "    print(f'{i} : {name}')"
   ]
  },
  {
   "cell_type": "code",
   "execution_count": 11,
   "metadata": {},
   "outputs": [
    {
     "name": "stderr",
     "output_type": "stream",
     "text": [
      "100%|██████████████████████████████████████████████████████████████████| 12/12 [00:06<00:00,  1.95it/s]\n"
     ]
    }
   ],
   "source": [
    "# cleaning up folder\n",
    "for ip in tqdm(ips):\n",
    "    try:\n",
    "        # os.system(f\"ssh pi@{ip} rm -r LDM/*\")\n",
    "    except:\n",
    "        print(f'error in {ip}')"
   ]
  },
  {
   "cell_type": "code",
   "execution_count": 12,
   "metadata": {},
   "outputs": [
    {
     "name": "stderr",
     "output_type": "stream",
     "text": [
      "100%|█████████████████████████████████████████████████████████████████| 12/12 [00:00<00:00, 109.09it/s]\n"
     ]
    }
   ],
   "source": [
    "# copy files\n",
    "source = os.path.join(os.getcwd(), os.path.normpath(f'./slides/*'))\n",
    "\n",
    "for ip in tqdm(ips):\n",
    "    # if ip == '192.168.0.206':\n",
    "    if True:\n",
    "        try:\n",
    "            # os.system(f'scp \"{source}\" pi@{ip}:LDM/slides')\n",
    "            # process = subprocess.Popen(['scp', '-r', f'{source}', f'pi@{ip}:LDM'], shell=False)\n",
    "        except:\n",
    "            print(f'error in {ip}')"
   ]
  },
  {
   "cell_type": "code",
   "execution_count": 43,
   "metadata": {},
   "outputs": [
    {
     "name": "stdout",
     "output_type": "stream",
     "text": [
      "True\n"
     ]
    }
   ],
   "source": [
    "# remove single folder\n",
    "foldername = 'Project14_AMELIE_LAURA'\n",
    "source = os.path.join(os.getcwd(), os.path.normpath(f'./slides/{foldername}'))\n",
    "print(os.path.isdir(source))"
   ]
  },
  {
   "cell_type": "code",
   "execution_count": 44,
   "metadata": {},
   "outputs": [
    {
     "name": "stderr",
     "output_type": "stream",
     "text": [
      "100%|██████████████████████████████████████████████████████████████████| 12/12 [00:05<00:00,  2.39it/s]\n"
     ]
    }
   ],
   "source": [
    "for ip in tqdm(ips):\n",
    "    try:\n",
    "        os.system(f\"ssh pi@{ip} rm -r LDM/{foldername}\")\n",
    "    except:\n",
    "        print(f'error in {ip}')"
   ]
  },
  {
   "cell_type": "code",
   "execution_count": 45,
   "metadata": {},
   "outputs": [
    {
     "name": "stderr",
     "output_type": "stream",
     "text": [
      "12it [00:00, 203.39it/s]"
     ]
    },
    {
     "name": "stdout",
     "output_type": "stream",
     "text": [
      "True\n"
     ]
    },
    {
     "name": "stderr",
     "output_type": "stream",
     "text": [
      "\n"
     ]
    }
   ],
   "source": [
    "# upload single folder\n",
    "\n",
    "filename = 'Project14_AMELIE_LAURA'\n",
    "source = os.path.join(os.getcwd(), os.path.normpath(f'./slides/{filename}'))\n",
    "print(os.path.isdir(source))\n",
    "\n",
    "for ip_num, ip in tqdm(enumerate(ips)):\n",
    "    # if ip == '192.168.0.206':\n",
    "    if True:\n",
    "        try:\n",
    "            # os.system(f'scp \"{source}\" pi@{ip}:LDM/slides')\n",
    "            process = subprocess.Popen(['scp', '-r', f'{source}', f'pi@{ip}:LDM'], shell=False)\n",
    "        except:\n",
    "            print(f'error in {ip}')\n"
   ]
  },
  {
   "cell_type": "code",
   "execution_count": 47,
   "metadata": {},
   "outputs": [
    {
     "name": "stderr",
     "output_type": "stream",
     "text": [
      "100%|██████████████████████████████████████████████████████████████████| 12/12 [00:09<00:00,  1.30it/s]\n"
     ]
    }
   ],
   "source": [
    "# reboot\n",
    "for ip in tqdm(ips):\n",
    "    try:\n",
    "        os.system(f\"ssh pi@{ip} sudo reboot\")\n",
    "    except:\n",
    "        print(f'error in {ip}')"
   ]
  },
  {
   "cell_type": "code",
   "execution_count": null,
   "metadata": {},
   "outputs": [],
   "source": [
    "ip = 101\n",
    "os.system(f\"ssh pi@192.168.200.{ip} sudo reboot\")"
   ]
  },
  {
   "cell_type": "code",
   "execution_count": null,
   "metadata": {},
   "outputs": [],
   "source": [
    "# shutdown\n",
    "for ip in tqdm(ips):\n",
    "    try:\n",
    "        os.system(f\"ssh pi@{ip} sudo shutdown now\")\n",
    "    except:\n",
    "        print(f'error in {ip}')"
   ]
  },
  {
   "cell_type": "code",
   "execution_count": null,
   "metadata": {},
   "outputs": [],
   "source": []
  }
 ],
 "metadata": {
  "kernelspec": {
   "display_name": "Python 3",
   "language": "python",
   "name": "python3"
  },
  "language_info": {
   "codemirror_mode": {
    "name": "ipython",
    "version": 3
   },
   "file_extension": ".py",
   "mimetype": "text/x-python",
   "name": "python",
   "nbconvert_exporter": "python",
   "pygments_lexer": "ipython3",
   "version": "3.6.12"
  }
 },
 "nbformat": 4,
 "nbformat_minor": 4
}
